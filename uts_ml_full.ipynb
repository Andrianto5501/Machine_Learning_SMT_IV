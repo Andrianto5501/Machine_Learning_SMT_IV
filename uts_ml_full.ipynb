{
 "metadata": {
  "language_info": {
   "codemirror_mode": {
    "name": "ipython",
    "version": 3
   },
   "file_extension": ".py",
   "mimetype": "text/x-python",
   "name": "python",
   "nbconvert_exporter": "python",
   "pygments_lexer": "ipython3",
   "version": "3.8.8"
  },
  "orig_nbformat": 2,
  "kernelspec": {
   "name": "python388jvsc74a57bd00e2c67fd29076ff9511c0a8938da032cdbf269751758aead16ac747d3c6195b1",
   "display_name": "Python 3.8.8 64-bit"
  },
  "metadata": {
   "interpreter": {
    "hash": "0e2c67fd29076ff9511c0a8938da032cdbf269751758aead16ac747d3c6195b1"
   }
  }
 },
 "nbformat": 4,
 "nbformat_minor": 2,
 "cells": [
  {
   "cell_type": "code",
   "execution_count": 1,
   "metadata": {},
   "outputs": [
    {
     "output_type": "execute_result",
     "data": {
      "text/plain": [
       "      battery_power  blue  clock_speed  dual_sim  fc  four_g  int_memory  \\\n",
       "0               842     0          2.2         0   1       0           7   \n",
       "1              1021     1          0.5         1   0       1          53   \n",
       "2               563     1          0.5         1   2       1          41   \n",
       "3               615     1          2.5         0   0       0          10   \n",
       "4              1821     1          1.2         0  13       1          44   \n",
       "...             ...   ...          ...       ...  ..     ...         ...   \n",
       "1995            794     1          0.5         1   0       1           2   \n",
       "1996           1965     1          2.6         1   0       0          39   \n",
       "1997           1911     0          0.9         1   1       1          36   \n",
       "1998           1512     0          0.9         0   4       1          46   \n",
       "1999            510     1          2.0         1   5       1          45   \n",
       "\n",
       "      m_dep  mobile_wt  n_cores  ...  px_height  px_width   ram  sc_h  sc_w  \\\n",
       "0       0.6        188        2  ...         20       756  2549     9     7   \n",
       "1       0.7        136        3  ...        905      1988  2631    17     3   \n",
       "2       0.9        145        5  ...       1263      1716  2603    11     2   \n",
       "3       0.8        131        6  ...       1216      1786  2769    16     8   \n",
       "4       0.6        141        2  ...       1208      1212  1411     8     2   \n",
       "...     ...        ...      ...  ...        ...       ...   ...   ...   ...   \n",
       "1995    0.8        106        6  ...       1222      1890   668    13     4   \n",
       "1996    0.2        187        4  ...        915      1965  2032    11    10   \n",
       "1997    0.7        108        8  ...        868      1632  3057     9     1   \n",
       "1998    0.1        145        5  ...        336       670   869    18    10   \n",
       "1999    0.9        168        6  ...        483       754  3919    19     4   \n",
       "\n",
       "      talk_time  three_g  touch_screen  wifi  price_range  \n",
       "0            19        0             0     1            1  \n",
       "1             7        1             1     0            2  \n",
       "2             9        1             1     0            2  \n",
       "3            11        1             0     0            2  \n",
       "4            15        1             1     0            1  \n",
       "...         ...      ...           ...   ...          ...  \n",
       "1995         19        1             1     0            0  \n",
       "1996         16        1             1     1            2  \n",
       "1997          5        1             1     0            3  \n",
       "1998         19        1             1     1            0  \n",
       "1999          2        1             1     1            3  \n",
       "\n",
       "[2000 rows x 21 columns]"
      ],
      "text/html": "<div>\n<style scoped>\n    .dataframe tbody tr th:only-of-type {\n        vertical-align: middle;\n    }\n\n    .dataframe tbody tr th {\n        vertical-align: top;\n    }\n\n    .dataframe thead th {\n        text-align: right;\n    }\n</style>\n<table border=\"1\" class=\"dataframe\">\n  <thead>\n    <tr style=\"text-align: right;\">\n      <th></th>\n      <th>battery_power</th>\n      <th>blue</th>\n      <th>clock_speed</th>\n      <th>dual_sim</th>\n      <th>fc</th>\n      <th>four_g</th>\n      <th>int_memory</th>\n      <th>m_dep</th>\n      <th>mobile_wt</th>\n      <th>n_cores</th>\n      <th>...</th>\n      <th>px_height</th>\n      <th>px_width</th>\n      <th>ram</th>\n      <th>sc_h</th>\n      <th>sc_w</th>\n      <th>talk_time</th>\n      <th>three_g</th>\n      <th>touch_screen</th>\n      <th>wifi</th>\n      <th>price_range</th>\n    </tr>\n  </thead>\n  <tbody>\n    <tr>\n      <th>0</th>\n      <td>842</td>\n      <td>0</td>\n      <td>2.2</td>\n      <td>0</td>\n      <td>1</td>\n      <td>0</td>\n      <td>7</td>\n      <td>0.6</td>\n      <td>188</td>\n      <td>2</td>\n      <td>...</td>\n      <td>20</td>\n      <td>756</td>\n      <td>2549</td>\n      <td>9</td>\n      <td>7</td>\n      <td>19</td>\n      <td>0</td>\n      <td>0</td>\n      <td>1</td>\n      <td>1</td>\n    </tr>\n    <tr>\n      <th>1</th>\n      <td>1021</td>\n      <td>1</td>\n      <td>0.5</td>\n      <td>1</td>\n      <td>0</td>\n      <td>1</td>\n      <td>53</td>\n      <td>0.7</td>\n      <td>136</td>\n      <td>3</td>\n      <td>...</td>\n      <td>905</td>\n      <td>1988</td>\n      <td>2631</td>\n      <td>17</td>\n      <td>3</td>\n      <td>7</td>\n      <td>1</td>\n      <td>1</td>\n      <td>0</td>\n      <td>2</td>\n    </tr>\n    <tr>\n      <th>2</th>\n      <td>563</td>\n      <td>1</td>\n      <td>0.5</td>\n      <td>1</td>\n      <td>2</td>\n      <td>1</td>\n      <td>41</td>\n      <td>0.9</td>\n      <td>145</td>\n      <td>5</td>\n      <td>...</td>\n      <td>1263</td>\n      <td>1716</td>\n      <td>2603</td>\n      <td>11</td>\n      <td>2</td>\n      <td>9</td>\n      <td>1</td>\n      <td>1</td>\n      <td>0</td>\n      <td>2</td>\n    </tr>\n    <tr>\n      <th>3</th>\n      <td>615</td>\n      <td>1</td>\n      <td>2.5</td>\n      <td>0</td>\n      <td>0</td>\n      <td>0</td>\n      <td>10</td>\n      <td>0.8</td>\n      <td>131</td>\n      <td>6</td>\n      <td>...</td>\n      <td>1216</td>\n      <td>1786</td>\n      <td>2769</td>\n      <td>16</td>\n      <td>8</td>\n      <td>11</td>\n      <td>1</td>\n      <td>0</td>\n      <td>0</td>\n      <td>2</td>\n    </tr>\n    <tr>\n      <th>4</th>\n      <td>1821</td>\n      <td>1</td>\n      <td>1.2</td>\n      <td>0</td>\n      <td>13</td>\n      <td>1</td>\n      <td>44</td>\n      <td>0.6</td>\n      <td>141</td>\n      <td>2</td>\n      <td>...</td>\n      <td>1208</td>\n      <td>1212</td>\n      <td>1411</td>\n      <td>8</td>\n      <td>2</td>\n      <td>15</td>\n      <td>1</td>\n      <td>1</td>\n      <td>0</td>\n      <td>1</td>\n    </tr>\n    <tr>\n      <th>...</th>\n      <td>...</td>\n      <td>...</td>\n      <td>...</td>\n      <td>...</td>\n      <td>...</td>\n      <td>...</td>\n      <td>...</td>\n      <td>...</td>\n      <td>...</td>\n      <td>...</td>\n      <td>...</td>\n      <td>...</td>\n      <td>...</td>\n      <td>...</td>\n      <td>...</td>\n      <td>...</td>\n      <td>...</td>\n      <td>...</td>\n      <td>...</td>\n      <td>...</td>\n      <td>...</td>\n    </tr>\n    <tr>\n      <th>1995</th>\n      <td>794</td>\n      <td>1</td>\n      <td>0.5</td>\n      <td>1</td>\n      <td>0</td>\n      <td>1</td>\n      <td>2</td>\n      <td>0.8</td>\n      <td>106</td>\n      <td>6</td>\n      <td>...</td>\n      <td>1222</td>\n      <td>1890</td>\n      <td>668</td>\n      <td>13</td>\n      <td>4</td>\n      <td>19</td>\n      <td>1</td>\n      <td>1</td>\n      <td>0</td>\n      <td>0</td>\n    </tr>\n    <tr>\n      <th>1996</th>\n      <td>1965</td>\n      <td>1</td>\n      <td>2.6</td>\n      <td>1</td>\n      <td>0</td>\n      <td>0</td>\n      <td>39</td>\n      <td>0.2</td>\n      <td>187</td>\n      <td>4</td>\n      <td>...</td>\n      <td>915</td>\n      <td>1965</td>\n      <td>2032</td>\n      <td>11</td>\n      <td>10</td>\n      <td>16</td>\n      <td>1</td>\n      <td>1</td>\n      <td>1</td>\n      <td>2</td>\n    </tr>\n    <tr>\n      <th>1997</th>\n      <td>1911</td>\n      <td>0</td>\n      <td>0.9</td>\n      <td>1</td>\n      <td>1</td>\n      <td>1</td>\n      <td>36</td>\n      <td>0.7</td>\n      <td>108</td>\n      <td>8</td>\n      <td>...</td>\n      <td>868</td>\n      <td>1632</td>\n      <td>3057</td>\n      <td>9</td>\n      <td>1</td>\n      <td>5</td>\n      <td>1</td>\n      <td>1</td>\n      <td>0</td>\n      <td>3</td>\n    </tr>\n    <tr>\n      <th>1998</th>\n      <td>1512</td>\n      <td>0</td>\n      <td>0.9</td>\n      <td>0</td>\n      <td>4</td>\n      <td>1</td>\n      <td>46</td>\n      <td>0.1</td>\n      <td>145</td>\n      <td>5</td>\n      <td>...</td>\n      <td>336</td>\n      <td>670</td>\n      <td>869</td>\n      <td>18</td>\n      <td>10</td>\n      <td>19</td>\n      <td>1</td>\n      <td>1</td>\n      <td>1</td>\n      <td>0</td>\n    </tr>\n    <tr>\n      <th>1999</th>\n      <td>510</td>\n      <td>1</td>\n      <td>2.0</td>\n      <td>1</td>\n      <td>5</td>\n      <td>1</td>\n      <td>45</td>\n      <td>0.9</td>\n      <td>168</td>\n      <td>6</td>\n      <td>...</td>\n      <td>483</td>\n      <td>754</td>\n      <td>3919</td>\n      <td>19</td>\n      <td>4</td>\n      <td>2</td>\n      <td>1</td>\n      <td>1</td>\n      <td>1</td>\n      <td>3</td>\n    </tr>\n  </tbody>\n</table>\n<p>2000 rows × 21 columns</p>\n</div>"
     },
     "metadata": {},
     "execution_count": 1
    }
   ],
   "source": [
    "# import pandas library terlebih dahulu untuk memuat dataset csv yang sudah disediakan\n",
    "import pandas as pd\n",
    "\n",
    "# baca file csv dan tampung kedalam variable\n",
    "dataset = pd.read_csv('./UTS/data_survei_pasar.csv')\n",
    "# coba untuk tampilkan terlebih dahulu\n",
    "dataset"
   ]
  },
  {
   "cell_type": "code",
   "execution_count": 4,
   "metadata": {},
   "outputs": [
    {
     "output_type": "execute_result",
     "data": {
      "text/plain": [
       "            Specs          Score\n",
       "13            ram  931267.519053\n",
       "11      px_height   17363.569536\n",
       "0   battery_power   14129.866576\n",
       "12       px_width    9810.586750\n",
       "8       mobile_wt      95.972863\n",
       "6      int_memory      89.839124\n",
       "15           sc_w      16.480319\n",
       "16      talk_time      13.236400\n",
       "4              fc      10.135166\n",
       "14           sc_h       9.614878"
      ],
      "text/html": "<div>\n<style scoped>\n    .dataframe tbody tr th:only-of-type {\n        vertical-align: middle;\n    }\n\n    .dataframe tbody tr th {\n        vertical-align: top;\n    }\n\n    .dataframe thead th {\n        text-align: right;\n    }\n</style>\n<table border=\"1\" class=\"dataframe\">\n  <thead>\n    <tr style=\"text-align: right;\">\n      <th></th>\n      <th>Specs</th>\n      <th>Score</th>\n    </tr>\n  </thead>\n  <tbody>\n    <tr>\n      <th>13</th>\n      <td>ram</td>\n      <td>931267.519053</td>\n    </tr>\n    <tr>\n      <th>11</th>\n      <td>px_height</td>\n      <td>17363.569536</td>\n    </tr>\n    <tr>\n      <th>0</th>\n      <td>battery_power</td>\n      <td>14129.866576</td>\n    </tr>\n    <tr>\n      <th>12</th>\n      <td>px_width</td>\n      <td>9810.586750</td>\n    </tr>\n    <tr>\n      <th>8</th>\n      <td>mobile_wt</td>\n      <td>95.972863</td>\n    </tr>\n    <tr>\n      <th>6</th>\n      <td>int_memory</td>\n      <td>89.839124</td>\n    </tr>\n    <tr>\n      <th>15</th>\n      <td>sc_w</td>\n      <td>16.480319</td>\n    </tr>\n    <tr>\n      <th>16</th>\n      <td>talk_time</td>\n      <td>13.236400</td>\n    </tr>\n    <tr>\n      <th>4</th>\n      <td>fc</td>\n      <td>10.135166</td>\n    </tr>\n    <tr>\n      <th>14</th>\n      <td>sc_h</td>\n      <td>9.614878</td>\n    </tr>\n  </tbody>\n</table>\n</div>"
     },
     "metadata": {},
     "execution_count": 4
    }
   ],
   "source": [
    "# import beberapa libary sklearn seperti SelectKBest, dan chi2 yang digunakan untuk melihat seberapa kuat hubungan pada data, metode univariate\n",
    "from sklearn.feature_selection import SelectKBest\n",
    "from sklearn.feature_selection import chi2\n",
    "\n",
    "# buat attribut inputnya\n",
    "attr_input = dataset.iloc[:,:20] # iloc digunakan untuk mengambil dengan range tertentu, iloc[row,column], iloc[start:finish, start:finish], (:) that means get all data row/column\n",
    "# buat attribut outputnya\n",
    "attr_output = dataset.iloc[:,-1] # minus (-) digunakan untuk mengambil data dari belakang, -1 = mengambil data terakhir\n",
    "\n",
    "# buat object feature_selection\n",
    "best_features = SelectKBest(score_func=chi2,k=10) # k adalah degree of freedom atau data/column yang diijinkan berubah untuk bervariasi tanpa merubah semuanya\n",
    "# lakukan proses feature_selection\n",
    "fit_results = best_features.fit(attr_input,attr_output)\n",
    "\n",
    "# buat frame scorenya\n",
    "data_scores = pd.DataFrame(fit_results.scores_)\n",
    "# buat variable untuk menampung nama column yang terseleksi\n",
    "data_columns = pd.DataFrame(attr_input.columns)\n",
    "\n",
    "# gabungkan 2 frame tersebut\n",
    "featureScore = pd.concat([data_columns,data_scores],axis=1) # axis 1 = columns, axis 0 = index\n",
    "# buat/kasih nama labelnya\n",
    "featureScore.columns = ['Specs','Score']\n",
    "\n",
    "#filter 10 terbesar dari score\n",
    "featureScore.nlargest(10, 'Score')"
   ]
  },
  {
   "cell_type": "code",
   "execution_count": null,
   "metadata": {},
   "outputs": [],
   "source": [
    "# 10 Data Yang paling mempengaruhi harga dari sebuuah ponsel sudah tertampil"
   ]
  },
  {
   "cell_type": "code",
   "execution_count": 5,
   "metadata": {},
   "outputs": [
    {
     "output_type": "execute_result",
     "data": {
      "text/plain": [
       "array([[15.13919547]])"
      ]
     },
     "metadata": {},
     "execution_count": 5
    }
   ],
   "source": [
    "from sklearn import linear_model\n",
    "\n",
    "columnMost4 = featureScore.nlargest(4, 'Score').Specs\n",
    "\n",
    "x = dataset[columnMost4]\n",
    "y = dataset[['price_range']]\n",
    "\n",
    "regr = linear_model.LinearRegression()\n",
    "regr.fit(x,y)\n",
    "\n",
    "predictPrice = regr.predict([[16000,1920,1080,2048]])\n",
    "predictPrice"
   ]
  },
  {
   "cell_type": "code",
   "execution_count": 7,
   "metadata": {},
   "outputs": [
    {
     "output_type": "execute_result",
     "data": {
      "text/plain": [
       "               ram    px_height  battery_power     px_width  price_range\n",
       "count  2000.000000  2000.000000    2000.000000  2000.000000  2000.000000\n",
       "mean   2124.213000   645.108000    1238.518500  1251.515500     1.500000\n",
       "std    1084.732044   443.780811     439.418206   432.199447     1.118314\n",
       "min     256.000000     0.000000     501.000000   500.000000     0.000000\n",
       "25%    1207.500000   282.750000     851.750000   874.750000     0.750000\n",
       "50%    2146.500000   564.000000    1226.000000  1247.000000     1.500000\n",
       "75%    3064.500000   947.250000    1615.250000  1633.000000     2.250000\n",
       "max    3998.000000  1960.000000    1998.000000  1998.000000     3.000000"
      ],
      "text/html": "<div>\n<style scoped>\n    .dataframe tbody tr th:only-of-type {\n        vertical-align: middle;\n    }\n\n    .dataframe tbody tr th {\n        vertical-align: top;\n    }\n\n    .dataframe thead th {\n        text-align: right;\n    }\n</style>\n<table border=\"1\" class=\"dataframe\">\n  <thead>\n    <tr style=\"text-align: right;\">\n      <th></th>\n      <th>ram</th>\n      <th>px_height</th>\n      <th>battery_power</th>\n      <th>px_width</th>\n      <th>price_range</th>\n    </tr>\n  </thead>\n  <tbody>\n    <tr>\n      <th>count</th>\n      <td>2000.000000</td>\n      <td>2000.000000</td>\n      <td>2000.000000</td>\n      <td>2000.000000</td>\n      <td>2000.000000</td>\n    </tr>\n    <tr>\n      <th>mean</th>\n      <td>2124.213000</td>\n      <td>645.108000</td>\n      <td>1238.518500</td>\n      <td>1251.515500</td>\n      <td>1.500000</td>\n    </tr>\n    <tr>\n      <th>std</th>\n      <td>1084.732044</td>\n      <td>443.780811</td>\n      <td>439.418206</td>\n      <td>432.199447</td>\n      <td>1.118314</td>\n    </tr>\n    <tr>\n      <th>min</th>\n      <td>256.000000</td>\n      <td>0.000000</td>\n      <td>501.000000</td>\n      <td>500.000000</td>\n      <td>0.000000</td>\n    </tr>\n    <tr>\n      <th>25%</th>\n      <td>1207.500000</td>\n      <td>282.750000</td>\n      <td>851.750000</td>\n      <td>874.750000</td>\n      <td>0.750000</td>\n    </tr>\n    <tr>\n      <th>50%</th>\n      <td>2146.500000</td>\n      <td>564.000000</td>\n      <td>1226.000000</td>\n      <td>1247.000000</td>\n      <td>1.500000</td>\n    </tr>\n    <tr>\n      <th>75%</th>\n      <td>3064.500000</td>\n      <td>947.250000</td>\n      <td>1615.250000</td>\n      <td>1633.000000</td>\n      <td>2.250000</td>\n    </tr>\n    <tr>\n      <th>max</th>\n      <td>3998.000000</td>\n      <td>1960.000000</td>\n      <td>1998.000000</td>\n      <td>1998.000000</td>\n      <td>3.000000</td>\n    </tr>\n  </tbody>\n</table>\n</div>"
     },
     "metadata": {},
     "execution_count": 7
    }
   ],
   "source": [
    "newDataset = pd.concat([x,y],axis=1)\n",
    "newDataset.describe()"
   ]
  },
  {
   "cell_type": "code",
   "execution_count": 8,
   "metadata": {},
   "outputs": [
    {
     "output_type": "execute_result",
     "data": {
      "text/plain": [
       "               ram    px_height  battery_power     px_width  price_range\n",
       "count  1498.000000  1498.000000    1498.000000  1498.000000  1498.000000\n",
       "mean   2570.172897   682.251001    1278.941923  1284.989987     2.000000\n",
       "std     853.188835   459.094346     441.243159   433.161249     0.816497\n",
       "min     387.000000     2.000000     501.000000   500.000000     1.000000\n",
       "25%    1891.250000   300.750000     894.000000   899.750000     1.000000\n",
       "50%    2573.500000   609.000000    1310.000000  1289.000000     2.000000\n",
       "75%    3299.750000   991.750000    1663.750000  1670.750000     3.000000\n",
       "max    3998.000000  1960.000000    1998.000000  1998.000000     3.000000"
      ],
      "text/html": "<div>\n<style scoped>\n    .dataframe tbody tr th:only-of-type {\n        vertical-align: middle;\n    }\n\n    .dataframe tbody tr th {\n        vertical-align: top;\n    }\n\n    .dataframe thead th {\n        text-align: right;\n    }\n</style>\n<table border=\"1\" class=\"dataframe\">\n  <thead>\n    <tr style=\"text-align: right;\">\n      <th></th>\n      <th>ram</th>\n      <th>px_height</th>\n      <th>battery_power</th>\n      <th>px_width</th>\n      <th>price_range</th>\n    </tr>\n  </thead>\n  <tbody>\n    <tr>\n      <th>count</th>\n      <td>1498.000000</td>\n      <td>1498.000000</td>\n      <td>1498.000000</td>\n      <td>1498.000000</td>\n      <td>1498.000000</td>\n    </tr>\n    <tr>\n      <th>mean</th>\n      <td>2570.172897</td>\n      <td>682.251001</td>\n      <td>1278.941923</td>\n      <td>1284.989987</td>\n      <td>2.000000</td>\n    </tr>\n    <tr>\n      <th>std</th>\n      <td>853.188835</td>\n      <td>459.094346</td>\n      <td>441.243159</td>\n      <td>433.161249</td>\n      <td>0.816497</td>\n    </tr>\n    <tr>\n      <th>min</th>\n      <td>387.000000</td>\n      <td>2.000000</td>\n      <td>501.000000</td>\n      <td>500.000000</td>\n      <td>1.000000</td>\n    </tr>\n    <tr>\n      <th>25%</th>\n      <td>1891.250000</td>\n      <td>300.750000</td>\n      <td>894.000000</td>\n      <td>899.750000</td>\n      <td>1.000000</td>\n    </tr>\n    <tr>\n      <th>50%</th>\n      <td>2573.500000</td>\n      <td>609.000000</td>\n      <td>1310.000000</td>\n      <td>1289.000000</td>\n      <td>2.000000</td>\n    </tr>\n    <tr>\n      <th>75%</th>\n      <td>3299.750000</td>\n      <td>991.750000</td>\n      <td>1663.750000</td>\n      <td>1670.750000</td>\n      <td>3.000000</td>\n    </tr>\n    <tr>\n      <th>max</th>\n      <td>3998.000000</td>\n      <td>1960.000000</td>\n      <td>1998.000000</td>\n      <td>1998.000000</td>\n      <td>3.000000</td>\n    </tr>\n  </tbody>\n</table>\n</div>"
     },
     "metadata": {},
     "execution_count": 8
    }
   ],
   "source": [
    "newDataset\n",
    "\n",
    "# hapus baris yang terdapapat nilai 0\n",
    "for row in newDataset.columns:\n",
    "    newDataset = newDataset[newDataset[row] != 0]\n",
    "\n",
    "newDataset.describe()"
   ]
  },
  {
   "cell_type": "code",
   "execution_count": 9,
   "metadata": {},
   "outputs": [
    {
     "output_type": "execute_result",
     "data": {
      "text/plain": [
       "ram              0\n",
       "px_height        0\n",
       "battery_power    0\n",
       "px_width         0\n",
       "price_range      0\n",
       "dtype: int64"
      ]
     },
     "metadata": {},
     "execution_count": 9
    }
   ],
   "source": [
    "# cek apakah masih ada yang null\n",
    "newDataset.isnull().sum()"
   ]
  },
  {
   "cell_type": "code",
   "execution_count": 10,
   "metadata": {},
   "outputs": [
    {
     "output_type": "execute_result",
     "data": {
      "text/plain": [
       "<pandas.io.formats.style.Styler at 0x2167463b4f0>"
      ],
      "text/html": "<style  type=\"text/css\" >\n#T_39952_row0_col0,#T_39952_row1_col1,#T_39952_row2_col2,#T_39952_row3_col3,#T_39952_row4_col4{\n            background-color:  #023858;\n            color:  #f1f1f1;\n        }#T_39952_row0_col1,#T_39952_row0_col2,#T_39952_row0_col3,#T_39952_row1_col0,#T_39952_row1_col4{\n            background-color:  #fff7fb;\n            color:  #000000;\n        }#T_39952_row0_col4{\n            background-color:  #046198;\n            color:  #f1f1f1;\n        }#T_39952_row1_col2{\n            background-color:  #e9e5f1;\n            color:  #000000;\n        }#T_39952_row1_col3{\n            background-color:  #4a98c5;\n            color:  #000000;\n        }#T_39952_row2_col0{\n            background-color:  #fdf5fa;\n            color:  #000000;\n        }#T_39952_row2_col1{\n            background-color:  #e6e2ef;\n            color:  #000000;\n        }#T_39952_row2_col3{\n            background-color:  #f1ebf4;\n            color:  #000000;\n        }#T_39952_row2_col4{\n            background-color:  #f4eef6;\n            color:  #000000;\n        }#T_39952_row3_col0{\n            background-color:  #faf3f9;\n            color:  #000000;\n        }#T_39952_row3_col1{\n            background-color:  #4496c3;\n            color:  #000000;\n        }#T_39952_row3_col2{\n            background-color:  #eee9f3;\n            color:  #000000;\n        }#T_39952_row3_col4{\n            background-color:  #f8f1f8;\n            color:  #000000;\n        }#T_39952_row4_col0{\n            background-color:  #045b8e;\n            color:  #f1f1f1;\n        }#T_39952_row4_col1{\n            background-color:  #dbdaeb;\n            color:  #000000;\n        }#T_39952_row4_col2{\n            background-color:  #d0d1e6;\n            color:  #000000;\n        }#T_39952_row4_col3{\n            background-color:  #d9d8ea;\n            color:  #000000;\n        }</style><table id=\"T_39952_\" ><thead>    <tr>        <th class=\"blank level0\" ></th>        <th class=\"col_heading level0 col0\" >ram</th>        <th class=\"col_heading level0 col1\" >px_height</th>        <th class=\"col_heading level0 col2\" >battery_power</th>        <th class=\"col_heading level0 col3\" >px_width</th>        <th class=\"col_heading level0 col4\" >price_range</th>    </tr></thead><tbody>\n                <tr>\n                        <th id=\"T_39952_level0_row0\" class=\"row_heading level0 row0\" >ram</th>\n                        <td id=\"T_39952_row0_col0\" class=\"data row0 col0\" >1.00</td>\n                        <td id=\"T_39952_row0_col1\" class=\"data row0 col1\" >-0.17</td>\n                        <td id=\"T_39952_row0_col2\" class=\"data row0 col2\" >-0.15</td>\n                        <td id=\"T_39952_row0_col3\" class=\"data row0 col3\" >-0.13</td>\n                        <td id=\"T_39952_row0_col4\" class=\"data row0 col4\" >0.85</td>\n            </tr>\n            <tr>\n                        <th id=\"T_39952_level0_row1\" class=\"row_heading level0 row1\" >px_height</th>\n                        <td id=\"T_39952_row1_col0\" class=\"data row1 col0\" >-0.17</td>\n                        <td id=\"T_39952_row1_col1\" class=\"data row1 col1\" >1.00</td>\n                        <td id=\"T_39952_row1_col2\" class=\"data row1 col2\" >0.01</td>\n                        <td id=\"T_39952_row1_col3\" class=\"data row1 col3\" >0.53</td>\n                        <td id=\"T_39952_row1_col4\" class=\"data row1 col4\" >0.07</td>\n            </tr>\n            <tr>\n                        <th id=\"T_39952_level0_row2\" class=\"row_heading level0 row2\" >battery_power</th>\n                        <td id=\"T_39952_row2_col0\" class=\"data row2 col0\" >-0.15</td>\n                        <td id=\"T_39952_row2_col1\" class=\"data row2 col1\" >0.01</td>\n                        <td id=\"T_39952_row2_col2\" class=\"data row2 col2\" >1.00</td>\n                        <td id=\"T_39952_row2_col3\" class=\"data row2 col3\" >-0.02</td>\n                        <td id=\"T_39952_row2_col4\" class=\"data row2 col4\" >0.14</td>\n            </tr>\n            <tr>\n                        <th id=\"T_39952_level0_row3\" class=\"row_heading level0 row3\" >px_width</th>\n                        <td id=\"T_39952_row3_col0\" class=\"data row3 col0\" >-0.13</td>\n                        <td id=\"T_39952_row3_col1\" class=\"data row3 col1\" >0.53</td>\n                        <td id=\"T_39952_row3_col2\" class=\"data row3 col2\" >-0.02</td>\n                        <td id=\"T_39952_row3_col3\" class=\"data row3 col3\" >1.00</td>\n                        <td id=\"T_39952_row3_col4\" class=\"data row3 col4\" >0.11</td>\n            </tr>\n            <tr>\n                        <th id=\"T_39952_level0_row4\" class=\"row_heading level0 row4\" >price_range</th>\n                        <td id=\"T_39952_row4_col0\" class=\"data row4 col0\" >0.85</td>\n                        <td id=\"T_39952_row4_col1\" class=\"data row4 col1\" >0.07</td>\n                        <td id=\"T_39952_row4_col2\" class=\"data row4 col2\" >0.14</td>\n                        <td id=\"T_39952_row4_col3\" class=\"data row4 col3\" >0.11</td>\n                        <td id=\"T_39952_row4_col4\" class=\"data row4 col4\" >1.00</td>\n            </tr>\n    </tbody></table>"
     },
     "metadata": {},
     "execution_count": 10
    }
   ],
   "source": [
    "import matplotlib.pyplot as plt\n",
    "import numpy as np\n",
    "import seaborn as sns\n",
    "from sklearn.linear_model import LinearRegression\n",
    "from sklearn.model_selection import train_test_split\n",
    "\n",
    "# menampilkan plot table \n",
    "newDataset.corr().style.background_gradient().set_precision(2)"
   ]
  },
  {
   "cell_type": "code",
   "execution_count": 11,
   "metadata": {},
   "outputs": [
    {
     "output_type": "stream",
     "name": "stdout",
     "text": [
      "[0.0008866  0.00024424 0.00052847 0.00030397]\n-1.5180106383505605\n"
     ]
    }
   ],
   "source": [
    "x1 = newDataset.drop(columns='price_range') # mengambil data selain column price range\n",
    "y1 = newDataset['price_range'] # mengambil column price_range\n",
    "\n",
    "#Kedua, split data menjadi training and testing dengan porsi tertentu.\n",
    "x_train, x_test, y_train, y_test = train_test_split(x1, y1, test_size=0.2, random_state=4)\n",
    "\n",
    "# buat object regresi\n",
    "lin_reg = LinearRegression()\n",
    "\n",
    "# training the model menggunakan training data yang sudah displit sebelumnya.\n",
    "lin_reg.fit(x_train, y_train)\n",
    "\n",
    "# cari tau nilai slope/koefisien (m) dan intercept (b).\n",
    "print(lin_reg.coef_)\n",
    "print(lin_reg.intercept_)"
   ]
  },
  {
   "cell_type": "code",
   "execution_count": 12,
   "metadata": {},
   "outputs": [
    {
     "output_type": "execute_result",
     "data": {
      "text/plain": [
       "0.8479201075974119"
      ]
     },
     "metadata": {},
     "execution_count": 12
    }
   ],
   "source": [
    "lin_reg.score(x_test,y_test)"
   ]
  },
  {
   "cell_type": "code",
   "execution_count": 13,
   "metadata": {},
   "outputs": [
    {
     "output_type": "stream",
     "name": "stdout",
     "text": [
      "price_range\t: [14.32976241]\n"
     ]
    }
   ],
   "source": [
    "# kita cari tahu accuracy score dari model kita menggunakan testing data yang sudah displit sebelumnya.\n",
    "# [ram, px_height, battery_power, px_width]\n",
    "print(\"price_range\\t:\", str(lin_reg.predict([[16000,1920,1080,2048]])))"
   ]
  },
  {
   "cell_type": "code",
   "execution_count": null,
   "metadata": {},
   "outputs": [],
   "source": []
  }
 ]
}